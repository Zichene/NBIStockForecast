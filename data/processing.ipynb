{
 "cells": [
  {
   "metadata": {},
   "cell_type": "code",
   "outputs": [],
   "execution_count": null,
   "source": [
    "# GENERATE THE COMBINED DATA (MERGING)\n",
    "from merge_df import get_df_market_data, get_df_resized_trade_data\n",
    "\n",
    "all_data = []\n",
    "for i in range(1, 16):\n",
    "    combined_data = get_df_market_data(f\"raw/Period{i}\")\n",
    "    merged_data = get_df_resized_trade_data(f\"raw/Period{i}\", combined_data)\n",
    "    all_data.append(merged_data)\n"
   ],
   "id": "3afa8bc8e33facf"
  },
  {
   "metadata": {},
   "cell_type": "code",
   "outputs": [],
   "execution_count": null,
   "source": [
    "# CREATING THE CSV FILES\n",
    "import os\n",
    "base_path = r'/Users/cindy/PycharmProjects/NBIStockForecast/input'\n",
    "if not os.path.exists(base_path):\n",
    "    os.makedirs(base_path)\n",
    "\n",
    "stocks = ['A', 'B', 'C', 'D', 'E']\n",
    "\n",
    "for stock in stocks:\n",
    "    base_path_stock = os.path.join(base_path, stock)\n",
    "    for i in range(15):\n",
    "        # create a folder for each stock\n",
    "        if not os.path.exists(base_path_stock):\n",
    "            os.makedirs(base_path_stock)\n",
    "        all_data[i][stock].to_csv(os.path.join(base_path_stock, f\"{i+1}.csv\"))\n"
   ],
   "id": "d92972dc0523cd24"
  },
  {
   "metadata": {},
   "cell_type": "code",
   "outputs": [],
   "execution_count": null,
   "source": "",
   "id": "54add32b38e6ebd0"
  }
 ],
 "metadata": {
  "kernelspec": {
   "display_name": "Python 3",
   "language": "python",
   "name": "python3"
  },
  "language_info": {
   "codemirror_mode": {
    "name": "ipython",
    "version": 2
   },
   "file_extension": ".py",
   "mimetype": "text/x-python",
   "name": "python",
   "nbconvert_exporter": "python",
   "pygments_lexer": "ipython2",
   "version": "2.7.6"
  }
 },
 "nbformat": 4,
 "nbformat_minor": 5
}
